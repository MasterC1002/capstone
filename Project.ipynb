{
 "metadata": {
  "name": ""
 },
 "nbformat": 3,
 "nbformat_minor": 0,
 "worksheets": [
  {
   "cells": [
    {
     "cell_type": "code",
     "collapsed": false,
     "input": [
      "cd Meta/MetaData/"
     ],
     "language": "python",
     "metadata": {},
     "outputs": [
      {
       "output_type": "stream",
       "stream": "stdout",
       "text": [
        "/Users/MrG/Capstone/Meta/MetaData\n"
       ]
      }
     ],
     "prompt_number": 1
    },
    {
     "cell_type": "code",
     "collapsed": false,
     "input": [
      "import pandas as pd\n",
      "import datetime\n",
      "name = pd.read_table(\"Name\", sep = \",\", header = None)\n",
      "name.head()"
     ],
     "language": "python",
     "metadata": {},
     "outputs": [
      {
       "html": [
        "<div style=\"max-height:1000px;max-width:1500px;overflow:auto;\">\n",
        "<table border=\"1\" class=\"dataframe\">\n",
        "  <thead>\n",
        "    <tr style=\"text-align: right;\">\n",
        "      <th></th>\n",
        "      <th>0</th>\n",
        "    </tr>\n",
        "  </thead>\n",
        "  <tbody>\n",
        "    <tr>\n",
        "      <th>0</th>\n",
        "      <td>         0x10c</td>\n",
        "    </tr>\n",
        "    <tr>\n",
        "      <th>1</th>\n",
        "      <td>     2007scape</td>\n",
        "    </tr>\n",
        "    <tr>\n",
        "      <th>2</th>\n",
        "      <td> 24hoursupport</td>\n",
        "    </tr>\n",
        "    <tr>\n",
        "      <th>3</th>\n",
        "      <td>        30ROCK</td>\n",
        "    </tr>\n",
        "    <tr>\n",
        "      <th>4</th>\n",
        "      <td>           3DS</td>\n",
        "    </tr>\n",
        "  </tbody>\n",
        "</table>\n",
        "</div>"
       ],
       "metadata": {},
       "output_type": "pyout",
       "prompt_number": 64,
       "text": [
        "               0\n",
        "0          0x10c\n",
        "1      2007scape\n",
        "2  24hoursupport\n",
        "3         30ROCK\n",
        "4            3DS"
       ]
      }
     ],
     "prompt_number": 64
    },
    {
     "cell_type": "code",
     "collapsed": false,
     "input": [
      "name[0][2076:2077]"
     ],
     "language": "python",
     "metadata": {},
     "outputs": [
      {
       "metadata": {},
       "output_type": "pyout",
       "prompt_number": 9,
       "text": [
        "2076    promos\n",
        "Name: 0, dtype: object"
       ]
      }
     ],
     "prompt_number": 9
    },
    {
     "cell_type": "code",
     "collapsed": false,
     "input": [
      "test = name[0][411:412] + 'Clean' + '.csv'\n",
      "print test\n",
      "data = pd.read_table(\"promosClean.csv\", sep = \"\\t\")\n",
      "data.head()\n",
      "pd.read_table(\"GiffingToolClean.csv\", sep = \"\\t\").head()\n",
      "virgin = pd.read_table(\"VirginiaClean.csv\", sep = \"\\t\")\n",
      "def t(x):\n",
      "    x = datetime.datetime.fromtimestamp(x).strftime('%H')\n",
      "    return x\n",
      "sum(virgin['created_utc'].apply(t) == 5)"
     ],
     "language": "python",
     "metadata": {},
     "outputs": [
      {
       "output_type": "stream",
       "stream": "stdout",
       "text": [
        "411    GifSoundClean.csv\n",
        "Name: 0, dtype: object\n"
       ]
      },
      {
       "metadata": {},
       "output_type": "pyout",
       "prompt_number": 10,
       "text": [
        "0"
       ]
      }
     ],
     "prompt_number": 10
    },
    {
     "cell_type": "code",
     "collapsed": false,
     "input": [
      "import datetime\n",
      "import pandas as pd\n",
      "pd.set_option('display.mpl_style', 'default')\n",
      "Time_count = pd.DataFrame({'Time': range(24)})\n",
      "Time_karma = pd.DataFrame({'Time': range(24)})\n",
      "Time_care = pd.DataFrame({'Time': range(24)})\n",
      "def f(x):\n",
      "    x = datetime.datetime.fromtimestamp(x).strftime('%H')\n",
      "    return int(x)\n",
      "for i in name[0][0:2500]:\n",
      "    original = i\n",
      "    index = i + 'Clean' + '.csv'\n",
      "    a = pd.read_table(index, sep = \"\\t\")\n",
      "    a['care_value'] = a['ups'] + a['downs']\n",
      "    a['karma'] = a['ups'] - a['downs']\n",
      "    try: \n",
      "        a['created_utc'] = a['created_utc'].apply(f)\n",
      "        Time_count[original] = a['created_utc'].value_counts()\n",
      "        temp_karma = pd.DataFrame({'Time': a['created_utc'],'karma': a['karma']})\n",
      "        temp_care = pd.DataFrame({'Time': a['created_utc'],'care_value': a['care_value']})\n",
      "        Time_karma[original] = temp_karma.groupby('Time', as_index = False).mean()['karma']\n",
      "        Time_care[original] = temp_care.groupby('Time', as_index = False).max()['care_value']\n",
      "    except: continue\n",
      "Time_karma.drop('Time', axis = 1)\n",
      "Time_care.drop('Time', axis = 1)"
     ],
     "language": "python",
     "metadata": {},
     "outputs": [
      {
       "html": [
        "<pre>\n",
        "&lt;class 'pandas.core.frame.DataFrame'&gt;\n",
        "Int64Index: 24 entries, 0 to 23\n",
        "Columns: 2498 entries, 0x10c to zooeydeschanel\n",
        "dtypes: float64(60), int64(2438)\n",
        "</pre>"
       ],
       "metadata": {},
       "output_type": "pyout",
       "prompt_number": 144,
       "text": [
        "<class 'pandas.core.frame.DataFrame'>\n",
        "Int64Index: 24 entries, 0 to 23\n",
        "Columns: 2498 entries, 0x10c to zooeydeschanel\n",
        "dtypes: float64(60), int64(2438)"
       ]
      }
     ],
     "prompt_number": 144
    },
    {
     "cell_type": "code",
     "collapsed": false,
     "input": [],
     "language": "python",
     "metadata": {},
     "outputs": []
    },
    {
     "cell_type": "code",
     "collapsed": false,
     "input": [
      "%matplotlib inline\n",
      "import matplotlib\n",
      "from matplotlib import pyplot as plt\n",
      "import numpy as np\n",
      "fig = plt.figure()\n",
      "axes = fig.add_axes([0.2,0.2,1.5,1.5])\n",
      "plt.plot(Time_care[\"0x10c\"], 'g')\n",
      "plt.plot(Time_care[\"30ROCK\"], 'r')\n",
      "plt.plot(Time_care[\"3DS\"], 'b')\n",
      "axes.set_xlabel('x')\n",
      "axes.set_ylabel('time')\n",
      "axes.set_title('Comparison Among Different Care Values')"
     ],
     "language": "python",
     "metadata": {},
     "outputs": [
      {
       "metadata": {},
       "output_type": "pyout",
       "prompt_number": 22,
       "text": [
        "<matplotlib.text.Text at 0x106bdf510>"
       ]
      },
      {
       "metadata": {},
       "output_type": "display_data",
       "png": "[encoded data removed]",
       "text": [
        "<matplotlib.figure.Figure at 0x1062c0dd0>"
       ]
      }
     ],
     "prompt_number": 22
    },
    {
     "cell_type": "code",
     "collapsed": false,
     "input": [
      "import numpy as np\n",
      "import datetime\n",
      "# print a.sort(['created_utc'], ascending = [0]).head()\n",
      "# print a[\"created_utc\"].value_counts()\n",
      "x = np.arange(5)\n",
      "# print x\n",
      "def f(x):\n",
      "    x = datetime.datetime.fromtimestamp(x).strftime('%H')\n",
      "    return int(x)\n",
      "test = pd.read_table('0x10cClean.csv', sep = '\\t')\n",
      "# print test['created_utc'].apply(f)\n",
      "test['created_utc'] = test['created_utc'].apply(f)\n",
      "smalltest = pd.DataFrame({'Counts': test['created_utc'], \"karma\": test['ups'] - test['downs']})\n",
      "smalltest.head()\n",
      "m = smalltest.groupby('Counts', as_index=False).mean()\n",
      "print m['karma']"
     ],
     "language": "python",
     "metadata": {},
     "outputs": [
      {
       "output_type": "stream",
       "stream": "stdout",
       "text": [
        "0     24.500000\n",
        "1     45.375000\n",
        "2     46.756098\n",
        "3     29.344828\n",
        "4     28.800000\n",
        "5     39.088889\n",
        "6     40.825000\n",
        "7     55.769231\n",
        "8     45.056604\n",
        "9     44.708333\n",
        "10    48.978261\n",
        "11    32.057692\n",
        "12    23.877193\n",
        "13    26.719298\n",
        "14    27.919355\n",
        "15    27.830508\n",
        "16    32.386364\n",
        "17    30.270270\n",
        "18    38.058824\n",
        "19    35.157895\n",
        "20    32.355556\n",
        "21    20.750000\n",
        "22    24.518519\n",
        "23    26.055556\n",
        "Name: karma, dtype: float64\n"
       ]
      }
     ],
     "prompt_number": 103
    },
    {
     "cell_type": "code",
     "collapsed": false,
     "input": [],
     "language": "python",
     "metadata": {},
     "outputs": []
    },
    {
     "cell_type": "code",
     "collapsed": false,
     "input": [
      "a[\"created_utc\"].idxmin()\n",
      "a[\"created_utc\"].argmin()\n",
      "np.random.randn(30)\n",
      "Time = pd.DataFrame({'Hour': range(24),'Care_value': \"\"})\n",
      "test = pd.DataFrame({'Hello': range(24)})"
     ],
     "language": "python",
     "metadata": {},
     "outputs": [],
     "prompt_number": 11
    },
    {
     "cell_type": "code",
     "collapsed": false,
     "input": [
      "print 'Pandas Version' + pd.__version__ "
     ],
     "language": "python",
     "metadata": {},
     "outputs": [
      {
       "output_type": "stream",
       "stream": "stdout",
       "text": [
        "Pandas Version0.12.0\n"
       ]
      }
     ],
     "prompt_number": 12
    },
    {
     "cell_type": "code",
     "collapsed": false,
     "input": [
      "# Change = Time_care['0x10c']/10\n",
      "# Time_count.T.plot(kind = 'line', color = 'R')\n",
      "# Time_count['0x10c'].plot(kind = 'line')\n",
      "# Time_score['0x10c'].plot(kind = 'line', color = 'Y')\n",
      "# Time_count.T.mean().plot(kind = 'line', color = 'R')\n",
      "# Time_count.T.boxplot()"
     ],
     "language": "python",
     "metadata": {},
     "outputs": [],
     "prompt_number": 66
    },
    {
     "cell_type": "code",
     "collapsed": false,
     "input": [
      "Time_care.T.var().plot(kind = 'line')\n",
      "# Time_care.T.boxplot()\n",
      "#plt.scatter(range(2498), Time_care.loc[0][1:])\n",
      "# plt.scatter(range(2498), Time_care.loc[23][1:])\n",
      "#plt.scatter(range(2498), Time_care.loc[2][1:])\n",
      "#plt.scatter(range(2498), Time_care.loc[10][1:])"
     ],
     "language": "python",
     "metadata": {},
     "outputs": [
      {
       "metadata": {},
       "output_type": "pyout",
       "prompt_number": 179,
       "text": [
        "<matplotlib.axes.AxesSubplot at 0x10f88c390>"
       ]
      },
      {
       "metadata": {},
       "output_type": "display_data",
       "png": "[encoded data removed]",
       "text": [
        "<matplotlib.figure.Figure at 0x10d4fc950>"
       ]
      }
     ],
     "prompt_number": 179
    },
    {
     "cell_type": "code",
     "collapsed": false,
     "input": [
      "import numpy as np\n",
      "from sklearn.decomposition import PCA\n",
      "pca = PCA(n_components=2)\n",
      "# np.array(Time_count.columns())\n",
      "# Time_score = Time_score.drop('Time_Interval', axis = 1)\n",
      "pca.fit(np.array(Time_score.T))\n",
      "print pca.explained_variance_ratio_\n",
      "print pca.components_[0]\n",
      "print pca.components_[1]\n",
      "# print pca.transform\n",
      "plt.scatter(pca.components_[0], pca.components_[1])"
     ],
     "language": "python",
     "metadata": {},
     "outputs": [
      {
       "output_type": "stream",
       "stream": "stdout",
       "text": [
        "[  1.00000000e+00   7.27699587e-32]\n",
        "[ 0.18675661  0.33825815  0.34116314  0.20081921  0.18904343  0.25985001\n",
        "  0.26546118  0.37175413  0.28247207  0.27219458  0.29712032  0.16051687\n",
        "  0.0905365   0.10457835  0.10610333  0.09780336  0.12490864  0.10115554\n",
        "  0.15290277  0.12316709  0.09418293 -0.00190568  0.01919796  0.02329164]\n",
        "[  9.44487275e-01  -3.19677395e-02  -1.30046608e-01  -4.09584995e-02\n",
        "   5.00605004e-02  -9.43693158e-02   1.04871946e-02  -5.30976120e-03\n",
        "   2.40254105e-02  -8.45448170e-02  -1.65098350e-01  -2.28379451e-02\n",
        "   9.71517184e-02  -4.22592356e-02  -1.16338697e-01  -2.25534477e-02\n",
        "  -9.81547061e-04  -1.20276424e-01  -2.88976683e-02  -2.36757326e-03\n",
        "  -2.54347904e-02   5.19602381e-05  -3.54447161e-03  -6.56091713e-03]\n"
       ]
      },
      {
       "metadata": {},
       "output_type": "pyout",
       "prompt_number": 149,
       "text": [
        "<matplotlib.collections.PathCollection at 0x109f3b590>"
       ]
      },
      {
       "metadata": {},
       "output_type": "display_data",
       "png": "[encoded data removed]",
       "text": [
        "<matplotlib.figure.Figure at 0x109ccf310>"
       ]
      }
     ],
     "prompt_number": 149
    },
    {
     "cell_type": "code",
     "collapsed": false,
     "input": [],
     "language": "python",
     "metadata": {},
     "outputs": [
      {
       "ename": "SyntaxError",
       "evalue": "invalid syntax (<ipython-input-25-c3750aa3c243>, line 2)",
       "output_type": "pyerr",
       "traceback": [
        "\u001b[0;36m  File \u001b[0;32m\"<ipython-input-25-c3750aa3c243>\"\u001b[0;36m, line \u001b[0;32m2\u001b[0m\n\u001b[0;31m    help string\u001b[0m\n\u001b[0m              ^\u001b[0m\n\u001b[0;31mSyntaxError\u001b[0m\u001b[0;31m:\u001b[0m invalid syntax\n"
       ]
      }
     ],
     "prompt_number": 25
    },
    {
     "cell_type": "code",
     "collapsed": false,
     "input": [
      "a = \"she is a really really stupid professor\"\n",
      "t = a.split()\n"
     ],
     "language": "python",
     "metadata": {},
     "outputs": [
      {
       "output_type": "stream",
       "stream": "stdout",
       "text": [
        "['she', 'is', 'a', 'really', 'really', 'stupid', 'professor']\n"
       ]
      }
     ],
     "prompt_number": 32
    },
    {
     "cell_type": "code",
     "collapsed": false,
     "input": [],
     "language": "python",
     "metadata": {},
     "outputs": []
    }
   ],
   "metadata": {}
  }
 ]
}