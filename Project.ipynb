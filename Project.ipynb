{
 "metadata": {
  "name": ""
 },
 "nbformat": 3,
 "nbformat_minor": 0,
 "worksheets": [
  {
   "cells": [
    {
     "cell_type": "code",
     "collapsed": false,
     "input": [
      "cd Meta/MetaData/"
     ],
     "language": "python",
     "metadata": {},
     "outputs": [
      {
       "output_type": "stream",
       "stream": "stdout",
       "text": [
        "/Users/MrG/Capstone/Meta/MetaData\n"
       ]
      }
     ],
     "prompt_number": 1
    },
    {
     "cell_type": "code",
     "collapsed": false,
     "input": [
      "import pandas as pd\n",
      "name = pd.read_table(\"Name\", sep = \",\", header = None)\n",
      "name.head()"
     ],
     "language": "python",
     "metadata": {},
     "outputs": [
      {
       "html": [
        "<div style=\"max-height:1000px;max-width:1500px;overflow:auto;\">\n",
        "<table border=\"1\" class=\"dataframe\">\n",
        "  <thead>\n",
        "    <tr style=\"text-align: right;\">\n",
        "      <th></th>\n",
        "      <th>0</th>\n",
        "    </tr>\n",
        "  </thead>\n",
        "  <tbody>\n",
        "    <tr>\n",
        "      <th>0</th>\n",
        "      <td>         0x10c</td>\n",
        "    </tr>\n",
        "    <tr>\n",
        "      <th>1</th>\n",
        "      <td>     2007scape</td>\n",
        "    </tr>\n",
        "    <tr>\n",
        "      <th>2</th>\n",
        "      <td> 24hoursupport</td>\n",
        "    </tr>\n",
        "    <tr>\n",
        "      <th>3</th>\n",
        "      <td>        30ROCK</td>\n",
        "    </tr>\n",
        "    <tr>\n",
        "      <th>4</th>\n",
        "      <td>           3DS</td>\n",
        "    </tr>\n",
        "  </tbody>\n",
        "</table>\n",
        "</div>"
       ],
       "metadata": {},
       "output_type": "pyout",
       "prompt_number": 2,
       "text": [
        "               0\n",
        "0          0x10c\n",
        "1      2007scape\n",
        "2  24hoursupport\n",
        "3         30ROCK\n",
        "4            3DS"
       ]
      }
     ],
     "prompt_number": 2
    },
    {
     "cell_type": "code",
     "collapsed": false,
     "input": [
      "name[0][2076:2077]"
     ],
     "language": "python",
     "metadata": {},
     "outputs": [
      {
       "metadata": {},
       "output_type": "pyout",
       "prompt_number": 3,
       "text": [
        "2076    promos\n",
        "Name: 0, dtype: object"
       ]
      }
     ],
     "prompt_number": 3
    },
    {
     "cell_type": "code",
     "collapsed": false,
     "input": [
      "test = name[0][411:412] + 'Clean' + '.csv'\n",
      "print test\n",
      "data = pd.read_table(\"promosClean.csv\", sep = \"\\t\")\n",
      "data.head()\n",
      "pd.read_table(\"GiffingToolClean.csv\", sep = \"\\t\").head()\n",
      "virgin = pd.read_table(\"VirginiaClean.csv\", sep = \"\\t\")\n",
      "def t(x):\n",
      "    x = datetime.datetime.fromtimestamp(x).strftime('%H')\n",
      "    return x\n",
      "sum(virgin['created_utc'].apply(t) == 5)"
     ],
     "language": "python",
     "metadata": {},
     "outputs": [
      {
       "output_type": "stream",
       "stream": "stdout",
       "text": [
        "411    GifSoundClean.csv\n",
        "Name: 0, dtype: object\n"
       ]
      },
      {
       "metadata": {},
       "output_type": "pyout",
       "prompt_number": 33,
       "text": [
        "0"
       ]
      }
     ],
     "prompt_number": 33
    },
    {
     "cell_type": "code",
     "collapsed": false,
     "input": [
      "import datetime\n",
      "import pandas as pd\n",
      "pd.set_option('display.mpl_style', 'default')\n",
      "Time_care = pd.DataFrame({'Hour': range(24)})\n",
      "Time_count = pd.DataFrame({'Time': range(24)})\n",
      "Time_score = pd.DataFrame({'Time_Interval': range(24)})\n",
      "def f(x):\n",
      "    x = datetime.datetime.fromtimestamp(x).strftime('%H')\n",
      "    return x\n",
      "for i in name[0][1:30]:\n",
      "    original = i\n",
      "    index = i + 'Clean' + '.csv'\n",
      "    a = pd.read_table(index, sep = \"\\t\")\n",
      "    a['care_value'] = a['ups'] + a['downs']\n",
      "    a['karma'] = a['ups'] - a['downs']\n",
      "    carevalue_max = []\n",
      "    karma_ave = []\n",
      "    # print index\n",
      "    for k in range(len(a[\"created_utc\"])):\n",
      "        a[\"created_utc\"][k] = datetime.datetime.fromtimestamp(a[\"created_utc\"][k]).strftime('%H')\n",
      "    # a['created_utc'] = a['created_utc'].apply(f)\n",
      "    Time_count[original] = a['created_utc'].value_counts()\n",
      "    for j in range(24):\n",
      "        set_hour = a[a[\"created_utc\"] == j]\n",
      "        carevalue_max.append(set_hour['care_value'].max())\n",
      "        karma_ave.append(set_hour['karma'].mean())\n",
      "    Time_care[original] = carevalue_max\n",
      "    Time_score[original] = karma_ave"
     ],
     "language": "python",
     "metadata": {},
     "outputs": [],
     "prompt_number": 44
    },
    {
     "cell_type": "code",
     "collapsed": false,
     "input": [
      "%matplotlib inline\n",
      "import matplotlib\n",
      "from matplotlib import pyplot as plt\n",
      "import numpy as np\n",
      "fig = plt.figure()\n",
      "axes = fig.add_axes([0.2,0.2,1.5,1.5])\n",
      "plt.plot(Time_care[0:1], 'g')\n",
      "plt.plot(Time_care[2:3], 'r')\n",
      "plt.plot(Time_care[4:5], 'b')\n",
      "axes.set_xlabel('x')\n",
      "axes.set_ylabel('time')\n",
      "axes.set_title('Comparison Among Different Care Values')"
     ],
     "language": "python",
     "metadata": {},
     "outputs": [
      {
       "metadata": {},
       "output_type": "pyout",
       "prompt_number": 39,
       "text": [
        "<matplotlib.text.Text at 0x107a87cd0>"
       ]
      },
      {
       "metadata": {},
       "output_type": "display_data",
       "png": "[encoded data removed]",
       "text": [
        "<matplotlib.figure.Figure at 0x10fc94150>"
       ]
      }
     ],
     "prompt_number": 39
    },
    {
     "cell_type": "code",
     "collapsed": false,
     "input": [
      "import numpy as np\n",
      "import datetime\n",
      "# print a.sort(['created_utc'], ascending = [0]).head()\n",
      "# print a[\"created_utc\"].value_counts()\n",
      "x = np.arange(5)\n",
      "print x\n",
      "def f(x):\n",
      "    x = datetime.datetime.fromtimestamp(x).strftime('%H')\n",
      "    return x\n",
      "test = pd.read_table('AMAClean.csv', sep = '\\t', )\n",
      "# print test['created_utc'].apply(f)\n",
      "test['created_utc'] = test['created_utc'].apply(f)\n",
      "# datetime.datetime.fromtimestamp(a[\"created_utc\"][500]).strftime('%H')\n",
      "Time_score.head()\n",
      "# datetime.datetime.fromtimestamp().strftime('%H')\n",
      "m = test.groupby('created_utc', axis = 0)\n",
      "len(m.get_group('05'))"
     ],
     "language": "python",
     "metadata": {},
     "outputs": [
      {
       "output_type": "stream",
       "stream": "stdout",
       "text": [
        "[0 1 2 3 4]\n"
       ]
      },
      {
       "metadata": {},
       "output_type": "pyout",
       "prompt_number": 111,
       "text": [
        "24"
       ]
      }
     ],
     "prompt_number": 111
    },
    {
     "cell_type": "code",
     "collapsed": false,
     "input": [
      "a[\"created_utc\"].idxmin()\n",
      "a[\"created_utc\"].argmin()\n",
      "np.random.randn(30)\n",
      "Time = pd.DataFrame({'Hour': range(24),'Care_value': \"\"})\n",
      "test = pd.DataFrame({'Hello': range(24)})"
     ],
     "language": "python",
     "metadata": {},
     "outputs": [],
     "prompt_number": 11
    },
    {
     "cell_type": "code",
     "collapsed": false,
     "input": [
      "print 'Pandas Version' + pd.__version__ "
     ],
     "language": "python",
     "metadata": {},
     "outputs": [
      {
       "output_type": "stream",
       "stream": "stdout",
       "text": [
        "Pandas Version0.12.0\n"
       ]
      }
     ],
     "prompt_number": 12
    },
    {
     "cell_type": "code",
     "collapsed": false,
     "input": [
      "# Change = Time_care['0x10c']/10\n",
      "# Time_count.T.plot(kind = 'line', color = 'R')\n",
      "# Time_count['0x10c'].plot(kind = 'line')\n",
      "# Time_score['0x10c'].plot(kind = 'line', color = 'Y')\n",
      "# Time_count.T.mean().plot(kind = 'line', color = 'R')\n",
      "# Time_count.T.boxplot()"
     ],
     "language": "python",
     "metadata": {},
     "outputs": [],
     "prompt_number": 66
    },
    {
     "cell_type": "code",
     "collapsed": false,
     "input": [
      "# Time_care.T.mean().plot(kind = 'line')\n",
      "# Time_care.T.boxplot()"
     ],
     "language": "python",
     "metadata": {},
     "outputs": [],
     "prompt_number": 8
    },
    {
     "cell_type": "code",
     "collapsed": false,
     "input": [
      "import numpy as np\n",
      "from sklearn.decomposition import PCA\n",
      "pca = PCA(n_components=2)\n",
      "# np.array(Time_count.columns())\n",
      "# Time_score = Time_score.drop('Time_Interval', axis = 1)\n",
      "pca.fit(np.array(Time_score.T))\n",
      "print pca.explained_variance_ratio_\n",
      "print pca.components_[1]\n",
      "# print pca.transform\n",
      "plt.scatter(pca.components_[0], pca.components_[1])\n"
     ],
     "language": "python",
     "metadata": {},
     "outputs": [
      {
       "output_type": "stream",
       "stream": "stdout",
       "text": [
        "[ 0.99668672  0.00244528]\n",
        "[-0.09139203  0.11416867 -0.01741456  0.43802801  0.11207065  0.20279581\n",
        "  0.24599357  0.15167666  0.11116889  0.0623349   0.22259183  0.01562316\n",
        " -0.12412953 -0.31181357  0.2195561  -0.16956415  0.15040238 -0.34114976\n",
        " -0.03056024  0.01440621 -0.04733594 -0.28900719 -0.32552121 -0.24846146]\n"
       ]
      },
      {
       "metadata": {},
       "output_type": "pyout",
       "prompt_number": 65,
       "text": [
        "<matplotlib.collections.PathCollection at 0x1129b2dd0>"
       ]
      },
      {
       "metadata": {},
       "output_type": "display_data",
       "png": "[encoded data removed]",
       "text": [
        "<matplotlib.figure.Figure at 0x1120cbbd0>"
       ]
      }
     ],
     "prompt_number": 65
    },
    {
     "cell_type": "code",
     "collapsed": false,
     "input": [],
     "language": "python",
     "metadata": {},
     "outputs": []
    }
   ],
   "metadata": {}
  }
 ]
}