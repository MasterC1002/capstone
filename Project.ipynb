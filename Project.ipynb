{
 "metadata": {
  "name": ""
 },
 "nbformat": 3,
 "nbformat_minor": 0,
 "worksheets": [
  {
   "cells": [
    {
     "cell_type": "code",
     "collapsed": false,
     "input": [
      "cd Meta/MetaData/"
     ],
     "language": "python",
     "metadata": {},
     "outputs": [
      {
       "output_type": "stream",
       "stream": "stdout",
       "text": [
        "/Users/MrG/Capstone/Meta/MetaData\n"
       ]
      }
     ],
     "prompt_number": 1
    },
    {
     "cell_type": "code",
     "collapsed": false,
     "input": [
      "import pandas as pd\n",
      "name = pd.read_table(\"Name\", sep = \",\", header = None)\n",
      "name.head()"
     ],
     "language": "python",
     "metadata": {},
     "outputs": [
      {
       "html": [
        "<div style=\"max-height:1000px;max-width:1500px;overflow:auto;\">\n",
        "<table border=\"1\" class=\"dataframe\">\n",
        "  <thead>\n",
        "    <tr style=\"text-align: right;\">\n",
        "      <th></th>\n",
        "      <th>0</th>\n",
        "    </tr>\n",
        "  </thead>\n",
        "  <tbody>\n",
        "    <tr>\n",
        "      <th>0</th>\n",
        "      <td>         0x10c</td>\n",
        "    </tr>\n",
        "    <tr>\n",
        "      <th>1</th>\n",
        "      <td>     2007scape</td>\n",
        "    </tr>\n",
        "    <tr>\n",
        "      <th>2</th>\n",
        "      <td> 24hoursupport</td>\n",
        "    </tr>\n",
        "    <tr>\n",
        "      <th>3</th>\n",
        "      <td>        30ROCK</td>\n",
        "    </tr>\n",
        "    <tr>\n",
        "      <th>4</th>\n",
        "      <td>           3DS</td>\n",
        "    </tr>\n",
        "  </tbody>\n",
        "</table>\n",
        "</div>"
       ],
       "metadata": {},
       "output_type": "pyout",
       "prompt_number": 2,
       "text": [
        "               0\n",
        "0          0x10c\n",
        "1      2007scape\n",
        "2  24hoursupport\n",
        "3         30ROCK\n",
        "4            3DS"
       ]
      }
     ],
     "prompt_number": 2
    },
    {
     "cell_type": "code",
     "collapsed": false,
     "input": [
      "name[0][2076:2077]"
     ],
     "language": "python",
     "metadata": {},
     "outputs": [
      {
       "metadata": {},
       "output_type": "pyout",
       "prompt_number": 3,
       "text": [
        "2076    promos\n",
        "Name: 0, dtype: object"
       ]
      }
     ],
     "prompt_number": 3
    },
    {
     "cell_type": "code",
     "collapsed": false,
     "input": [
      "test = name[0][411:412] + 'Clean' + '.csv'\n",
      "print test\n",
      "data = pd.read_table(\"promosClean.csv\", sep = \"\\t\")\n",
      "data.head()\n",
      "pd.read_table(\"GiffingToolClean.csv\", sep = \"\\t\").head()\n",
      "pd.read_table(\"ADHDClean.csv\", sep = \"\\t\").head()"
     ],
     "language": "python",
     "metadata": {},
     "outputs": [
      {
       "output_type": "stream",
       "stream": "stdout",
       "text": [
        "411    GifSoundClean.csv\n",
        "Name: 0, dtype: object\n"
       ]
      },
      {
       "html": [
        "<div style=\"max-height:1000px;max-width:1500px;overflow:auto;\">\n",
        "<table border=\"1\" class=\"dataframe\">\n",
        "  <thead>\n",
        "    <tr style=\"text-align: right;\">\n",
        "      <th></th>\n",
        "      <th>created_utc</th>\n",
        "      <th>id</th>\n",
        "      <th>title</th>\n",
        "      <th>author</th>\n",
        "      <th>ups</th>\n",
        "      <th>downs</th>\n",
        "      <th>num_comments</th>\n",
        "      <th>selftext</th>\n",
        "      <th>subreddit_id</th>\n",
        "      <th>is_self</th>\n",
        "    </tr>\n",
        "  </thead>\n",
        "  <tbody>\n",
        "    <tr>\n",
        "      <th>0</th>\n",
        "      <td> 1362422233</td>\n",
        "      <td> 19ngsg</td>\n",
        "      <td> The most accurate representation of my day wit...</td>\n",
        "      <td>    jester9090</td>\n",
        "      <td> 834</td>\n",
        "      <td>  91</td>\n",
        "      <td>  59</td>\n",
        "      <td>                                               NaN</td>\n",
        "      <td> t5_2qnwb</td>\n",
        "      <td> False</td>\n",
        "    </tr>\n",
        "    <tr>\n",
        "      <th>1</th>\n",
        "      <td> 1361299540</td>\n",
        "      <td> 18typb</td>\n",
        "      <td> The result of a 70 minutes phone conversation ...</td>\n",
        "      <td>           NaN</td>\n",
        "      <td> 634</td>\n",
        "      <td>  67</td>\n",
        "      <td>  55</td>\n",
        "      <td>                                               NaN</td>\n",
        "      <td> t5_2qnwb</td>\n",
        "      <td> False</td>\n",
        "    </tr>\n",
        "    <tr>\n",
        "      <th>2</th>\n",
        "      <td> 1365520277</td>\n",
        "      <td> 1bzqyc</td>\n",
        "      <td> According to Lumosity I am a very special snow...</td>\n",
        "      <td>    tornadofox</td>\n",
        "      <td> 599</td>\n",
        "      <td> 124</td>\n",
        "      <td> 266</td>\n",
        "      <td> As in the bottom 2%.  I know that making you f...</td>\n",
        "      <td> t5_2qnwb</td>\n",
        "      <td>  True</td>\n",
        "    </tr>\n",
        "    <tr>\n",
        "      <th>3</th>\n",
        "      <td> 1358886921</td>\n",
        "      <td> 172qlv</td>\n",
        "      <td> [/r/ADHD] [Expert AMA] Meet Ari Tuckman. Autho...</td>\n",
        "      <td> computerpsych</td>\n",
        "      <td> 517</td>\n",
        "      <td>  50</td>\n",
        "      <td> 230</td>\n",
        "      <td> *The activity in /r/ADHD has recently exploded...</td>\n",
        "      <td> t5_2qnwb</td>\n",
        "      <td>  True</td>\n",
        "    </tr>\n",
        "    <tr>\n",
        "      <th>4</th>\n",
        "      <td> 1359947637</td>\n",
        "      <td> 17uf60</td>\n",
        "      <td> ADHD all-time best-of and FAQ thread! [NO KARM...</td>\n",
        "      <td>       peri123</td>\n",
        "      <td> 513</td>\n",
        "      <td>  66</td>\n",
        "      <td>  33</td>\n",
        "      <td> **NO KARMA SELF POST PLEASE UPVOTE FOR VISIBIL...</td>\n",
        "      <td> t5_2qnwb</td>\n",
        "      <td>  True</td>\n",
        "    </tr>\n",
        "  </tbody>\n",
        "</table>\n",
        "</div>"
       ],
       "metadata": {},
       "output_type": "pyout",
       "prompt_number": 5,
       "text": [
        "   created_utc      id                                              title  \\\n",
        "0   1362422233  19ngsg  The most accurate representation of my day wit...   \n",
        "1   1361299540  18typb  The result of a 70 minutes phone conversation ...   \n",
        "2   1365520277  1bzqyc  According to Lumosity I am a very special snow...   \n",
        "3   1358886921  172qlv  [/r/ADHD] [Expert AMA] Meet Ari Tuckman. Autho...   \n",
        "4   1359947637  17uf60  ADHD all-time best-of and FAQ thread! [NO KARM...   \n",
        "\n",
        "          author  ups  downs  num_comments  \\\n",
        "0     jester9090  834     91            59   \n",
        "1            NaN  634     67            55   \n",
        "2     tornadofox  599    124           266   \n",
        "3  computerpsych  517     50           230   \n",
        "4        peri123  513     66            33   \n",
        "\n",
        "                                            selftext subreddit_id is_self  \n",
        "0                                                NaN     t5_2qnwb   False  \n",
        "1                                                NaN     t5_2qnwb   False  \n",
        "2  As in the bottom 2%.  I know that making you f...     t5_2qnwb    True  \n",
        "3  *The activity in /r/ADHD has recently exploded...     t5_2qnwb    True  \n",
        "4  **NO KARMA SELF POST PLEASE UPVOTE FOR VISIBIL...     t5_2qnwb    True  "
       ]
      }
     ],
     "prompt_number": 5
    },
    {
     "cell_type": "code",
     "collapsed": false,
     "input": [
      "import datetime\n",
      "import pandas as pd\n",
      "Time_care = pd.DataFrame({'Hour': range(24)})\n",
      "Time_count = pd.DataFrame({'Time': range(24)})\n",
      "for i in name[0][0:1]:\n",
      "    original = i\n",
      "    index = i + 'Clean' + '.csv'\n",
      "    a = pd.read_table(index, sep = \"\\t\")\n",
      "    a['care_value'] = a['ups'] + a['downs']\n",
      "    carevalue_max = []\n",
      "    # print index\n",
      "    for k in range(len(a[\"created_utc\"])):\n",
      "        a[\"created_utc\"][k] = datetime.datetime.fromtimestamp(a[\"created_utc\"][k]).strftime('%H')\n",
      "        Time_count[original] = a[\"created_utc\"].value_counts()\n",
      "    for j in range(24):\n",
      "        set_hour = a[a[\"created_utc\"] == j]\n",
      "        carevalue_max.append(set_hour['care_value'].max())\n",
      "    # print carevalue_max\n",
      "    Time_care[original] = carevalue_max"
     ],
     "language": "python",
     "metadata": {},
     "outputs": [],
     "prompt_number": 115
    },
    {
     "cell_type": "code",
     "collapsed": false,
     "input": [
      "%matplotlib inline\n",
      "import matplotlib\n",
      "from matplotlib import pyplot as plt\n",
      "import numpy as np\n",
      "fig = plt.figure()\n",
      "axes = fig.add_axes([0.2,0.2,1.5,1.5])\n",
      "plt.plot(a['ups'] - a['downs'], 'g')\n",
      "axes.set_xlabel('x')\n",
      "axes.set_ylabel('time')\n",
      "axes.set_title('sample')"
     ],
     "language": "python",
     "metadata": {},
     "outputs": [
      {
       "metadata": {},
       "output_type": "pyout",
       "prompt_number": 14,
       "text": [
        "<matplotlib.text.Text at 0x10939b810>"
       ]
      },
      {
       "metadata": {},
       "output_type": "display_data",
       "png": "[encoded data removed]",
       "text": [
        "<matplotlib.figure.Figure at 0x109379290>"
       ]
      }
     ],
     "prompt_number": 14
    },
    {
     "cell_type": "code",
     "collapsed": false,
     "input": [
      "import numpy as np\n",
      "# print a.sort(['created_utc'], ascending = [0]).head()\n",
      "print a[\"created_utc\"].value_counts()"
     ],
     "language": "python",
     "metadata": {},
     "outputs": [
      {
       "output_type": "stream",
       "stream": "stdout",
       "text": [
        "13    69\n",
        "12    67\n",
        "10    66\n",
        "16    60\n",
        "11    58\n",
        "15    58\n",
        "14    56\n",
        "19    52\n",
        "7     52\n",
        "17    51\n",
        "18    44\n",
        "8     44\n",
        "20    41\n",
        "9     39\n",
        "22    37\n",
        "21    35\n",
        "6     34\n",
        "5     26\n",
        "3     23\n",
        "0     23\n",
        "2     21\n",
        "23    17\n",
        "4     14\n",
        "1     13\n",
        "dtype: int64\n"
       ]
      }
     ],
     "prompt_number": 104
    },
    {
     "cell_type": "code",
     "collapsed": false,
     "input": [
      "a[\"created_utc\"].idxmin()\n",
      "a[\"created_utc\"].argmin()\n",
      "np.random.randn(30)\n",
      "Time = pd.DataFrame({'Hour': range(24),'Care_value': \"\"})\n",
      "test = pd.DataFrame({'Hello': range(24)})\n",
      "Time['test'] = range(24)\n",
      "Time['Care_value'] = range(24)\n",
      "Time['count'] = a[\"created_utc\"].value_counts()\n",
      "b = 'abletonClean.csv'\n",
      "Time[b] = range(24)"
     ],
     "language": "python",
     "metadata": {},
     "outputs": [],
     "prompt_number": 122
    },
    {
     "cell_type": "code",
     "collapsed": false,
     "input": [
      "print 'Pandas Version' + pd.__version__ "
     ],
     "language": "python",
     "metadata": {},
     "outputs": [
      {
       "output_type": "stream",
       "stream": "stdout",
       "text": [
        "Pandas Version0.12.0\n"
       ]
      }
     ],
     "prompt_number": 30
    },
    {
     "cell_type": "code",
     "collapsed": false,
     "input": [
      "Time_care['0x10c'].plot(kind = 'line')"
     ],
     "language": "python",
     "metadata": {},
     "outputs": [
      {
       "metadata": {},
       "output_type": "pyout",
       "prompt_number": 124,
       "text": [
        "<matplotlib.axes.AxesSubplot at 0x1029c07d0>"
       ]
      },
      {
       "metadata": {},
       "output_type": "display_data",
       "png": "[encoded data removed]",
       "text": [
        "<matplotlib.figure.Figure at 0x10b20d9d0>"
       ]
      }
     ],
     "prompt_number": 124
    },
    {
     "cell_type": "code",
     "collapsed": false,
     "input": [
      "Time_count['0x10c'].plot(kind = 'bar')"
     ],
     "language": "python",
     "metadata": {},
     "outputs": [
      {
       "metadata": {},
       "output_type": "pyout",
       "prompt_number": 121,
       "text": [
        "<matplotlib.axes.AxesSubplot at 0x10b6a0710>"
       ]
      },
      {
       "metadata": {},
       "output_type": "display_data",
       "png": "[encoded data removed]",
       "text": [
        "<matplotlib.figure.Figure at 0x10b6cbf90>"
       ]
      }
     ],
     "prompt_number": 121
    },
    {
     "cell_type": "code",
     "collapsed": false,
     "input": [],
     "language": "python",
     "metadata": {},
     "outputs": []
    }
   ],
   "metadata": {}
  }
 ]
}