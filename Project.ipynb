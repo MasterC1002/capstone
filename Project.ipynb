{
 "metadata": {
  "name": ""
 },
 "nbformat": 3,
 "nbformat_minor": 0,
 "worksheets": [
  {
   "cells": [
    {
     "cell_type": "code",
     "collapsed": false,
     "input": [
      "cd Meta/MetaData/"
     ],
     "language": "python",
     "metadata": {},
     "outputs": [
      {
       "output_type": "stream",
       "stream": "stdout",
       "text": [
        "/Users/MrG/Capstone/Meta/MetaData\n"
       ]
      }
     ],
     "prompt_number": 8
    },
    {
     "cell_type": "code",
     "collapsed": false,
     "input": [
      "import pandas as pd\n",
      "import numpy as np\n",
      "import datetime\n",
      "from sklearn.decomposition import PCA\n",
      "import nltk \n",
      "from nltk.book import *\n",
      "from __future__ import division\n",
      "import re, pprint"
     ],
     "language": "python",
     "metadata": {},
     "outputs": [
      {
       "output_type": "stream",
       "stream": "stdout",
       "text": [
        "*** Introductory Examples for the NLTK Book ***\n",
        "Loading text1, ..., text9 and sent1, ..., sent9\n",
        "Type the name of the text or sentence to view it.\n",
        "Type: 'texts()' or 'sents()' to list the materials.\n",
        "text1:"
       ]
      },
      {
       "output_type": "stream",
       "stream": "stdout",
       "text": [
        " Moby Dick by Herman Melville 1851\n",
        "text2:"
       ]
      },
      {
       "output_type": "stream",
       "stream": "stdout",
       "text": [
        " Sense and Sensibility by Jane Austen 1811\n",
        "text3:"
       ]
      },
      {
       "output_type": "stream",
       "stream": "stdout",
       "text": [
        " The Book of Genesis\n",
        "text4:"
       ]
      },
      {
       "output_type": "stream",
       "stream": "stdout",
       "text": [
        " Inaugural Address Corpus\n",
        "text5:"
       ]
      },
      {
       "output_type": "stream",
       "stream": "stdout",
       "text": [
        " Chat Corpus\n",
        "text6:"
       ]
      },
      {
       "output_type": "stream",
       "stream": "stdout",
       "text": [
        " Monty Python and the Holy Grail\n",
        "text7:"
       ]
      },
      {
       "output_type": "stream",
       "stream": "stdout",
       "text": [
        " Wall Street Journal\n",
        "text8:"
       ]
      },
      {
       "output_type": "stream",
       "stream": "stdout",
       "text": [
        " Personals Corpus\n",
        "text9:"
       ]
      },
      {
       "output_type": "stream",
       "stream": "stdout",
       "text": [
        " The Man Who Was Thursday by G . K . Chesterton 1908\n"
       ]
      }
     ],
     "prompt_number": 2
    },
    {
     "cell_type": "code",
     "collapsed": false,
     "input": [
      "name = pd.read_table(\"Name\", sep = \",\", header = None)\n",
      "name.head()\n",
      "name[0][2076:2077]"
     ],
     "language": "python",
     "metadata": {},
     "outputs": [
      {
       "metadata": {},
       "output_type": "pyout",
       "prompt_number": 5,
       "text": [
        "2076    promos\n",
        "Name: 0, dtype: object"
       ]
      }
     ],
     "prompt_number": 5
    },
    {
     "cell_type": "code",
     "collapsed": false,
     "input": [
      "#test = name[0][411:412] + 'Clean' + '.csv'\n",
      "#print test\n",
      "#data = pd.read_table(\"promosClean.csv\", sep = \"\\t\")\n",
      "#data.head()\n",
      "#pd.read_table(\"GiffingToolClean.csv\", sep = \"\\t\").head()\n",
      "#virgin = pd.read_table(\"VirginiaClean.csv\", sep = \"\\t\")"
     ],
     "language": "python",
     "metadata": {},
     "outputs": [],
     "prompt_number": 6
    },
    {
     "cell_type": "code",
     "collapsed": false,
     "input": [
      "pd.set_option('display.mpl_style', 'default')\n",
      "Time_count = pd.DataFrame({'Time': range(24)})\n",
      "Time_karma = pd.DataFrame({'Time': range(24)})\n",
      "Time_care = pd.DataFrame({'Time': range(24)})\n",
      "def f(x):\n",
      "    x = datetime.datetime.fromtimestamp(x).strftime('%H')\n",
      "    return int(x)\n",
      "for i in name[0][0:2500]:\n",
      "    original = i\n",
      "    index = i + 'Clean' + '.csv'\n",
      "    a = pd.read_table(index, sep = \"\\t\")\n",
      "    a['care_value'] = a['ups'] + a['downs']\n",
      "    a['karma'] = a['ups'] - a['downs']\n",
      "    try: \n",
      "        a['created_utc'] = a['created_utc'].apply(f)\n",
      "        Time_count[original] = a['created_utc'].value_counts()\n",
      "        temp_karma = pd.DataFrame({'Time': a['created_utc'],'karma': a['karma']})\n",
      "        temp_care = pd.DataFrame({'Time': a['created_utc'],'care_value': a['care_value']})\n",
      "        Time_karma[original] = temp_karma.groupby('Time', as_index = False).mean()['karma']\n",
      "        Time_care[original] = temp_care.groupby('Time', as_index = False).max()['care_value']\n",
      "    except: continue\n",
      "Time_karma.drop('Time', axis = 1)\n",
      "Time_care.drop('Time', axis = 1)"
     ],
     "language": "python",
     "metadata": {},
     "outputs": [
      {
       "output_type": "stream",
       "stream": "stderr",
       "text": [
        "/Users/MrG/anaconda/python.app/Contents/lib/python2.7/site-packages/pandas/core/config.py:570: DeprecationWarning: height has been deprecated.\n",
        "\n",
        "  warnings.warn(d.msg, DeprecationWarning)\n",
        "/Users/MrG/anaconda/python.app/Contents/lib/python2.7/site-packages/pandas/core/config.py:570: DeprecationWarning: height has been deprecated.\n",
        "\n",
        "  warnings.warn(d.msg, DeprecationWarning)\n",
        "/Users/MrG/anaconda/python.app/Contents/lib/python2.7/site-packages/pandas/core/config.py:570: DeprecationWarning: height has been deprecated.\n",
        "\n",
        "  warnings.warn(d.msg, DeprecationWarning)\n"
       ]
      },
      {
       "html": [
        "<pre>\n",
        "&lt;class 'pandas.core.frame.DataFrame'&gt;\n",
        "Int64Index: 24 entries, 0 to 23\n",
        "Columns: 2498 entries, 0x10c to zooeydeschanel\n",
        "dtypes: float64(60), int64(2438)\n",
        "</pre>"
       ],
       "metadata": {},
       "output_type": "pyout",
       "prompt_number": 9,
       "text": [
        "<class 'pandas.core.frame.DataFrame'>\n",
        "Int64Index: 24 entries, 0 to 23\n",
        "Columns: 2498 entries, 0x10c to zooeydeschanel\n",
        "dtypes: float64(60), int64(2438)"
       ]
      }
     ],
     "prompt_number": 9
    },
    {
     "cell_type": "code",
     "collapsed": false,
     "input": [
      "Time_karma.drop('Time', axis = 1)\n",
      "Time_care.drop('Time', axis = 1)"
     ],
     "language": "python",
     "metadata": {},
     "outputs": [
      {
       "html": [
        "<pre>\n",
        "&lt;class 'pandas.core.frame.DataFrame'&gt;\n",
        "Int64Index: 24 entries, 0 to 23\n",
        "Columns: 2498 entries, 0x10c to zooeydeschanel\n",
        "dtypes: float64(60), int64(2438)\n",
        "</pre>"
       ],
       "metadata": {},
       "output_type": "pyout",
       "prompt_number": 6,
       "text": [
        "<class 'pandas.core.frame.DataFrame'>\n",
        "Int64Index: 24 entries, 0 to 23\n",
        "Columns: 2498 entries, 0x10c to zooeydeschanel\n",
        "dtypes: float64(60), int64(2438)"
       ]
      }
     ],
     "prompt_number": 6
    },
    {
     "cell_type": "code",
     "collapsed": false,
     "input": [
      "%matplotlib inline\n",
      "import matplotlib\n",
      "from matplotlib import pyplot as plt\n",
      "import numpy as np\n",
      "fig = plt.figure()\n",
      "axes = fig.add_axes([0.2,0.2,1.5,1.5])\n",
      "# plt.plot(Time_care.T.max(), 'g')\n",
      "plt.plot(Time_care.T.median(), 'r')\n",
      "plt.plot(Time_care.T.min(), 'b')\n",
      "axes.set_xlabel('x')\n",
      "axes.set_ylabel('time')\n",
      "axes.set_title('Comparison Among Different Care Values')\n",
      "plt.savefig('cnm.jpeg')"
     ],
     "language": "python",
     "metadata": {},
     "outputs": [
      {
       "metadata": {},
       "output_type": "display_data",
       "png": "[encoded data removed]",
       "text": [
        "<matplotlib.figure.Figure at 0x12b95c050>"
       ]
      }
     ],
     "prompt_number": 139
    },
    {
     "cell_type": "code",
     "collapsed": false,
     "input": [
      "# print a.sort(['created_utc'], ascending = [0]).head()\n",
      "# print a[\"created_utc\"].value_counts()\n",
      "x = np.arange(5)\n",
      "# print x\n",
      "def f(x):\n",
      "    x = datetime.datetime.fromtimestamp(x).strftime('%H')\n",
      "    return int(x)\n",
      "test = pd.read_table('0x10cClean.csv', sep = '\\t')"
     ],
     "language": "python",
     "metadata": {},
     "outputs": [],
     "prompt_number": 6
    },
    {
     "cell_type": "code",
     "collapsed": false,
     "input": [
      "# Extract the title and content data that are most popular and least popular\n",
      "Top_Title = []\n",
      "Top_Content = []\n",
      "Bottom_Title = []\n",
      "Bottom_Content = []\n",
      "def f(x):\n",
      "    x = datetime.datetime.fromtimestamp(x).strftime('%H')\n",
      "    return int(x)\n",
      "for i in name[0][0:2500]:\n",
      "    try:\n",
      "        original = i\n",
      "        index = i + 'Clean' + '.csv'\n",
      "        a = pd.read_table(index, sep = \"\\t\")\n",
      "        a['care_value'] = a['ups'] + a['downs'] \n",
      "        a['care_value']\n",
      "        Top_Title.append(a['title'][a['care_value'].argmax()])\n",
      "        Top_Content.append(a['selftext'][a['care_value'].argmax()])\n",
      "        Bottom_Title.append(a['title'][a['care_value'].argmax()])\n",
      "        Bottom_Content.append(a['selftext'][a['care_value'].argmax()])\n",
      "    except:continue"
     ],
     "language": "python",
     "metadata": {},
     "outputs": [],
     "prompt_number": 10
    },
    {
     "cell_type": "code",
     "collapsed": false,
     "input": [
      "# Text Mining !\n",
      "import nltk\n",
      "import nltk.data\n",
      "from nltk.corpus import stopwords\n",
      "from sklearn.feature_extraction.text import CountVectorizer\n",
      "stop = stopwords.words('english')\n",
      "removal = [',','\"','{','}','[',']','(',')','$',':','\\\\','!']\n",
      "Important_word = []\n",
      "content_token = nltk.word_tokenize(str(Top_Content[0:200]))\n",
      "for i in content_token:\n",
      "    if i not in stop:\n",
      "        Important_word.append(i)\n",
      "Important_word = str(Important_word)\n",
      "word_pool = re.findall(r'[A-Z]*[a-z]+', Important_word)\n",
      "a = nltk.FreqDist(word_pool)\n",
      "a.plot(30, cumulative = True)\n",
      "# len(content_token)\n",
      "# word_text = nltk.Text(Top_Content)\n",
      "# words = [w. for w in text]\n",
      "#wnl = nltk.wordnet.WordNetLemmatizer()\n",
      "#[wnl.lemmatize(t) for t in content_token]\n",
      "# tagged = nltk.pos_tag(Important_word)\n",
      "# nltk.tag.str2tuple(Important_word, sep = '|')\n",
      "#clean_Top_content = nltk.clean_html(str(Top_Content[:100]))\n",
      "# frequency = a.items() # This is what we need for frequency"
     ],
     "language": "python",
     "metadata": {},
     "outputs": [
      {
       "metadata": {},
       "output_type": "display_data",
       "png": "[encoded data removed]",
       "text": [
        "<matplotlib.figure.Figure at 0x12b91b350>"
       ]
      }
     ],
     "prompt_number": 140
    },
    {
     "cell_type": "code",
     "collapsed": false,
     "input": [
      "# Staging Area\n",
      "from nltk import punkt\n",
      "from nltk.tokenize.punkt import PunktWordTokenizer\n",
      "# content_token = PunktWordTokenizer().tokenize(str(Top_Content[:100]))\n"
     ],
     "language": "python",
     "metadata": {},
     "outputs": [
      {
       "metadata": {},
       "output_type": "pyout",
       "prompt_number": 114,
       "text": [
        "[]"
       ]
      }
     ],
     "prompt_number": 114
    },
    {
     "cell_type": "code",
     "collapsed": false,
     "input": [
      "text4.dispersion_plot([\"citizens\",\"democracy\",\"policy\",\"American\",\"China\"])\n",
      "type (text4)\n",
      "len(text1)\n",
      "Top_Content[0]"
     ],
     "language": "python",
     "metadata": {},
     "outputs": [
      {
       "metadata": {},
       "output_type": "display_data",
       "png": "[encoded data removed]",
       "text": [
        "<matplotlib.figure.Figure at 0x110c14fd0>"
       ]
      },
      {
       "output_type": "stream",
       "stream": "stdout",
       "text": [
        "<Text: Moby Dick by Herman Melville 1851>\n"
       ]
      }
     ],
     "prompt_number": 66
    },
    {
     "cell_type": "code",
     "collapsed": false,
     "input": [
      "Time_care.T.median().plot(kind = 'line')\n",
      "# print Time_care.T.max()\n",
      "# print Time_care.T.min()\n",
      "\n",
      "#plt.scatter(range(2498), Time_care.loc[0][1:])\n",
      "# plt.scatter(range(2498), Time_care.loc[23][1:])\n",
      "#plt.scatter(range(2498), Time_care.loc[2][1:])\n",
      "#plt.scatter(range(2498), Time_care.loc[10][1:])"
     ],
     "language": "python",
     "metadata": {},
     "outputs": [
      {
       "metadata": {},
       "output_type": "pyout",
       "prompt_number": 61,
       "text": [
        "0     155\n",
        "1     244\n",
        "2     578\n",
        "3     170\n",
        "4     124\n",
        "5     317\n",
        "6     299\n",
        "7     336\n",
        "8     304\n",
        "9     447\n",
        "10    380\n",
        "11    217\n",
        "12    334\n",
        "13    155\n",
        "14    270\n",
        "15    340\n",
        "16    353\n",
        "17    230\n",
        "18    175\n",
        "19    272\n",
        "20    371\n",
        "21    139\n",
        "22    166\n",
        "23    287\n",
        "Name: 0x10c, dtype: int64"
       ]
      },
      {
       "metadata": {},
       "output_type": "display_data",
       "png": "[encoded data removed]",
       "text": [
        "<matplotlib.figure.Figure at 0x106e2d050>"
       ]
      }
     ],
     "prompt_number": 61
    },
    {
     "cell_type": "code",
     "collapsed": false,
     "input": [
      "\n",
      "#pca = PCA(n_components=2)\n",
      "# np.array(Time_count.columns())\n",
      "# Time_score = Time_score.drop('Time_Interval', axis = 1)\n",
      "#pca.fit(np.array(Time_.T))\n",
      "#print pca.explained_variance_ratio_\n",
      "#print pca.components_[0]\n",
      "#print pca.components_[1]\n",
      "# print pca.transform\n",
      "#plt.scatter(pca.components_[0], pca.components_[1])"
     ],
     "language": "python",
     "metadata": {},
     "outputs": [],
     "prompt_number": 54
    },
    {
     "cell_type": "code",
     "collapsed": false,
     "input": [
      "Time_care"
     ],
     "language": "python",
     "metadata": {},
     "outputs": [
      {
       "ename": "NameError",
       "evalue": "name 'Time_care' is not defined",
       "output_type": "pyerr",
       "traceback": [
        "\u001b[0;31m---------------------------------------------------------------------------\u001b[0m\n\u001b[0;31mNameError\u001b[0m                                 Traceback (most recent call last)",
        "\u001b[0;32m<ipython-input-1-dd483843ff6b>\u001b[0m in \u001b[0;36m<module>\u001b[0;34m()\u001b[0m\n\u001b[0;32m----> 1\u001b[0;31m \u001b[0mTime_care\u001b[0m\u001b[0;34m\u001b[0m\u001b[0m\n\u001b[0m",
        "\u001b[0;31mNameError\u001b[0m: name 'Time_care' is not defined"
       ]
      }
     ],
     "prompt_number": 1
    },
    {
     "cell_type": "code",
     "collapsed": false,
     "input": [
      "%logstart /tmp/session.log\n"
     ],
     "language": "python",
     "metadata": {},
     "outputs": [
      {
       "output_type": "stream",
       "stream": "stdout",
       "text": [
        "Activating auto-logging. Current session state plus future input saved.\n",
        "Filename       : /tmp/session.log\n",
        "Mode           : backup\n",
        "Output logging : False\n",
        "Raw input log  : False\n",
        "Timestamping   : False\n",
        "State          : active\n"
       ]
      }
     ],
     "prompt_number": 13
    },
    {
     "cell_type": "code",
     "collapsed": false,
     "input": [
      "%logstop"
     ],
     "language": "python",
     "metadata": {},
     "outputs": [],
     "prompt_number": 14
    },
    {
     "cell_type": "code",
     "collapsed": false,
     "input": [
      "quit()"
     ],
     "language": "python",
     "metadata": {},
     "outputs": [],
     "prompt_number": 15
    },
    {
     "cell_type": "code",
     "collapsed": false,
     "input": [],
     "language": "python",
     "metadata": {},
     "outputs": []
    }
   ],
   "metadata": {}
  }
 ]
}